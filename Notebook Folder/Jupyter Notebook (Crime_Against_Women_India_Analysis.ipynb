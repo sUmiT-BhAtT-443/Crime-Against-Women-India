{
 "cells": [
  {
   "cell_type": "code",
   "execution_count": null,
   "id": "1bee6a0a-f9fb-4565-b3f9-af333bf5c0cc",
   "metadata": {},
   "outputs": [],
   "source": [
    "import pandas as pd\n",
    "import numpy as np"
   ]
  },
  {
   "cell_type": "code",
   "execution_count": null,
   "id": "58502097-050d-4f1f-b0db-001ad6f6b209",
   "metadata": {},
   "outputs": [],
   "source": [
    "# import dataset:\n",
    "data= pd.read_csv(r'C:\\Users\\sumit\\Downloads\\power_bi_datasets\\CrimesOnWomenData.csv')\n",
    "desc=pd.read_csv(r\"C:\\Users\\sumit\\Downloads\\power_bi_datasets\\description.csv\")\n",
    "print(data.head())\n",
    "print(f\"shape of data:{data.shape}\")\n",
    "print(data.info())               "
   ]
  },
  {
   "cell_type": "code",
   "execution_count": null,
   "id": "8b23524a-3ff3-4bab-ae5e-a7c72cac557f",
   "metadata": {},
   "outputs": [],
   "source": [
    "#Clean columns:\n",
    "data.columns= data.columns.str.strip().str.lower().str.replace(\" \",\"_\").str.replace(\"-\",\"_\")\n",
    "data.columns\n",
    "data.isnull().sum()\n",
    "data['year']= data['year'].astype(int)               # changed datatype"
   ]
  },
  {
   "cell_type": "code",
   "execution_count": null,
   "id": "1ac9cc05-b9e9-4253-a17a-55cf77bc1b85",
   "metadata": {},
   "outputs": [],
   "source": [
    "#formulize full columns name:\n",
    "rename_dict=dict(zip(desc['Column Names'].str.strip().str.lower(),desc['Explanation'].str.strip().str.lower().str.replace(' ','_').str.replace('-','_')))\n",
    "data.rename(columns=rename_dict,inplace=True)"
   ]
  },
  {
   "cell_type": "code",
   "execution_count": null,
   "id": "1b1b8779-17b6-41ae-8166-916d5dfc119d",
   "metadata": {},
   "outputs": [],
   "source": [
    "#save data:\n",
    "data.to_excel('Cleaned Crime_Data.xlsx',index=False)\n",
    "print(data.columns)"
   ]
  }
 ],
 "metadata": {
  "kernelspec": {
   "display_name": "Python 3 (ipykernel)",
   "language": "python",
   "name": "python3"
  },
  "language_info": {
   "codemirror_mode": {
    "name": "ipython",
    "version": 3
   },
   "file_extension": ".py",
   "mimetype": "text/x-python",
   "name": "python",
   "nbconvert_exporter": "python",
   "pygments_lexer": "ipython3",
   "version": "3.12.7"
  }
 },
 "nbformat": 4,
 "nbformat_minor": 5
}
